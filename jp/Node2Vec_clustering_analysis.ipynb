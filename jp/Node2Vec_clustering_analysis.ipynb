{
 "cells": [
  {
   "cell_type": "markdown",
   "id": "bca2c9f0-c64c-4881-8691-5e13aa512866",
   "metadata": {},
   "source": [
    "# Node2Vec & Clustering\n",
    "\n",
    "In this notebook, you will work with a graph dataset and apply **Node2Vec** for embedding, followed by clustering the embeddings using different algorithms. Your goal is to experiment with different parameters for Node2Vec, explore multiple clustering techniques, and visualize the resulting embeddings.\n",
    "\n",
    "### Tasks:\n",
    "1. **Select reasonable parameters for Node2Vec**: Select the missing parameters for Node2Vec to generate reasonable embeddings.\n",
    "2. **Experiment with DBSCAN**: Compare **DBSCAN** with **KMeans** and explore the differences.\n",
    "3. **Visualize the Embeddings**: Use techniques like **UMAP** or **t-SNE** to visualize the embeddings and clusters.\n",
    "\n",
    "Feel free to explore and experiment, and make sure to document your findings and choices in the code cells. We suggest spending only a few hours on this assignment but feel free to spend as much time on this as you need. We are not expecting a deep analysis or impactful results and don't guarantee that the underlying data will have a strong clustering profile. We are interested more in how you would approach the problem in general and how you can explain to us your decisions.\n",
    "\n",
    "If you encounter issues with building your environment, or running out of memory, please get in touch with us. The data for this task has been trimmed to run on a typical laptop and should not require more than 4 Gb of RAM.\n",
    "\n",
    "Good luck!"
   ]
  },
  {
   "cell_type": "code",
   "execution_count": null,
   "id": "55fc5006-bef7-491c-82c8-0267a816ea9c",
   "metadata": {},
   "outputs": [],
   "source": [
    "# Install required packages\n",
    "# !pip install pandas numpy scikit-learn pecanpy"
   ]
  },
  {
   "cell_type": "code",
   "execution_count": null,
   "id": "4ac1ea35-9e6e-4d51-b362-6c83821da416",
   "metadata": {},
   "outputs": [],
   "source": [
    "# Imports\n",
    "import pandas as pd\n",
    "import numpy as np\n",
    "from pecanpy.graph import AdjlstGraph\n",
    "from pecanpy import pecanpy as node2vec\n",
    "from sklearn.cluster import KMeans"
   ]
  },
  {
   "cell_type": "code",
   "execution_count": null,
   "id": "bcf3672e-a96e-44a4-8478-c63b89f6b63e",
   "metadata": {},
   "outputs": [],
   "source": [
    "# Load the data\n",
    "df = pd.read_parquet('omics_embedding_take_home_2025.parquet')\n",
    "df.head()"
   ]
  },
  {
   "cell_type": "code",
   "execution_count": null,
   "id": "082cf9b3-d880-45cf-966f-97ed3236cb73",
   "metadata": {},
   "outputs": [],
   "source": [
    "# Extract unique node IDs and edges\n",
    "node_ids = pd.unique(df[['source_id', 'target_id']].values.ravel())\n",
    "edges_iter = df[['source_id', 'target_id']].itertuples(index=False, name=None)"
   ]
  },
  {
   "cell_type": "code",
   "execution_count": null,
   "id": "e49956ad-1b1a-456a-ba5a-0fd56d54ea0e",
   "metadata": {},
   "outputs": [],
   "source": [
    "# Initialize graph\n",
    "graph = AdjlstGraph()\n",
    "\n",
    "# Add nodes\n",
    "for node_id in node_ids:\n",
    "    graph.add_node(node_id)\n",
    "\n",
    "# Add edges\n",
    "for source, target in edges_iter:\n",
    "    graph.add_edge(source, target, directed=False)"
   ]
  },
  {
   "cell_type": "markdown",
   "id": "3c2b4592-92c1-49e3-a444-96ed80e30ef9",
   "metadata": {},
   "source": [
    "### 1. Select the Right Parameters for Node2Vec\n",
    "\n",
    "Experiment with the following Node2Vec parameters to improve embedding quality. Use external resources as needed to understand their impact:\n",
    "\n",
    "- **dim**\n",
    "- **num_walks**\n",
    "- **walk_length**"
   ]
  },
  {
   "cell_type": "code",
   "execution_count": null,
   "id": "02115a7d-2bb9-4c66-a60d-d43acc127af1",
   "metadata": {
    "scrolled": true
   },
   "outputs": [],
   "source": [
    "# Params for initializing the model (graph traversal)\n",
    "init_params = {\n",
    "    \"p\": 1.0,\n",
    "    \"q\": 1.0,\n",
    "    \"extend\": False,\n",
    "    \"directed\": False,\n",
    "    \"verbose\": True,\n",
    "}\n",
    "\n",
    "# Params for embedding\n",
    "# Modify the ADJUST_PARAM values in embed_params based on your experimentation\n",
    "embed_params = {\n",
    "    \"dim\": ADJUST_PARAM,\n",
    "    \"num_walks\": ADJUST_PARAM,\n",
    "    \"walk_length\": ADJUST_PARAM,\n",
    "    \"window_size\": 5,\n",
    "    \"epochs\": 5,\n",
    "    \"verbose\": True,\n",
    "}"
   ]
  },
  {
   "cell_type": "code",
   "execution_count": null,
   "id": "9c7ff6eb-e37c-4579-a9c3-184befc3b49e",
   "metadata": {},
   "outputs": [],
   "source": [
    "# Initialize the model\n",
    "model = node2vec.PreComp(init_params)\n",
    "\n",
    "# Load the graph\n",
    "model = model.from_adjlst_graph(adjlst_graph=graph)\n",
    "\n",
    "# Train embedding with embedding-related params\n",
    "node_embeddings = model.embed(**embed_params)"
   ]
  },
  {
   "cell_type": "code",
   "execution_count": null,
   "id": "43770209-6d55-4634-b431-0c004803bfad",
   "metadata": {},
   "outputs": [],
   "source": [
    "# Extract patient IDs from both sides of edges\n",
    "patients = set(df[df[\"source_type\"] == \"Patient\"][\"source_id\"]) | \\\n",
    "           set(df[df[\"target_type\"] == \"Patient\"][\"target_id\"])\n",
    "\n",
    "# Filter embeddings for patient nodes only\n",
    "node_ids_array = np.array(node_ids)\n",
    "patient_mask = np.isin(node_ids_array, list(patients))\n",
    "patient_embeddings = node_embeddings[patient_mask]\n",
    "patient_ids = node_ids_array[patient_mask]"
   ]
  },
  {
   "cell_type": "markdown",
   "id": "8c657992-eb57-4f98-bd67-245c3e6c6b17",
   "metadata": {},
   "source": [
    "### 2. Experiment with DBSCAN\n",
    "\n",
    "Please experiment with **DBSCAN** and compare its results with **KMeans**. Try to explore the differences between these two clustering algorithms."
   ]
  },
  {
   "cell_type": "code",
   "execution_count": null,
   "id": "34e125bd-f885-432b-81fc-bc1f2662288b",
   "metadata": {},
   "outputs": [],
   "source": [
    "# Apply KMeans clustering\n",
    "n_clusters = 5\n",
    "kmeans = KMeans(n_clusters=n_clusters, random_state=42)\n",
    "patient_labels = kmeans.fit_predict(patient_embeddings)"
   ]
  },
  {
   "cell_type": "code",
   "execution_count": null,
   "id": "f775912d-2180-4c30-9fb9-c573fdb540aa",
   "metadata": {},
   "outputs": [],
   "source": [
    "# Your code here"
   ]
  },
  {
   "cell_type": "markdown",
   "id": "538aa535-3520-4168-936e-b95e1312b914",
   "metadata": {},
   "source": [
    "### 3. Visualize the Embeddings\n",
    "\n",
    "Visualize the embeddings using techniques like **UMAP** or **t-SNE** to explore the clusters of patients."
   ]
  },
  {
   "cell_type": "code",
   "execution_count": null,
   "id": "f0138a30-80f2-4302-8ec9-b028594d37f7",
   "metadata": {},
   "outputs": [],
   "source": [
    "# Your code here"
   ]
  }
 ],
 "metadata": {
  "kernelspec": {
   "display_name": "Python 3 (ipykernel)",
   "language": "python",
   "name": "python3"
  },
  "language_info": {
   "codemirror_mode": {
    "name": "ipython",
    "version": 3
   },
   "file_extension": ".py",
   "mimetype": "text/x-python",
   "name": "python",
   "nbconvert_exporter": "python",
   "pygments_lexer": "ipython3",
   "version": "3.13.3"
  }
 },
 "nbformat": 4,
 "nbformat_minor": 5
}
